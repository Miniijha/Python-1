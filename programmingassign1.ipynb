{
 "cells": [
  {
   "cell_type": "raw",
   "id": "462defdd",
   "metadata": {},
   "source": [
    "Write a Python program to print(\"Hello Python\")"
   ]
  },
  {
   "cell_type": "code",
   "execution_count": 30,
   "id": "f8d0532b",
   "metadata": {},
   "outputs": [
    {
     "name": "stdout",
     "output_type": "stream",
     "text": [
      "Hello Python\n"
     ]
    }
   ],
   "source": [
    "\n",
    "print(\"Hello Python\")"
   ]
  },
  {
   "cell_type": "raw",
   "id": "c3e8fa75",
   "metadata": {},
   "source": [
    "2. Write a Python program to do arithmetical operations addition and division.?\n"
   ]
  },
  {
   "cell_type": "code",
   "execution_count": 31,
   "id": "d09c3ced",
   "metadata": {},
   "outputs": [
    {
     "name": "stdout",
     "output_type": "stream",
     "text": [
      "enter the fist number:20\n",
      "enter the second number:30\n",
      "Sum of x and y is 50\n",
      "Div of x and y is 0.6666666666666666\n"
     ]
    }
   ],
   "source": [
    "\n",
    "x= int(input(\"enter the fist number:\"))\n",
    "y = int(input(\"enter the second number:\"))\n",
    "Sum= x+y\n",
    "Div=x/y\n",
    "print(\"Sum of x and y is\",Sum)\n",
    "print(\"Div of x and y is\",Div)\n"
   ]
  },
  {
   "cell_type": "raw",
   "id": "fd77870d",
   "metadata": {},
   "source": [
    "Write a Python program to find the area of a triangle?"
   ]
  },
  {
   "cell_type": "code",
   "execution_count": 33,
   "id": "303f02fc",
   "metadata": {},
   "outputs": [
    {
     "name": "stdout",
     "output_type": "stream",
     "text": [
      "Enter height of the triangle: 10\n",
      "Enter base of the triangle: 20\n",
      "Area of triangle is   100.0\n"
     ]
    }
   ],
   "source": [
    "\n",
    "\n",
    "h = int (input(\"Enter height of the triangle: \"))\n",
    "b = int(input(\"Enter base of the triangle: \"))\n",
    "area = 0.5 * b * h\n",
    "print(\"Area of triangle is  \", area)\n"
   ]
  },
  {
   "cell_type": "raw",
   "id": "708ea010",
   "metadata": {},
   "source": [
    "4. Write a Python program to swap two variables?"
   ]
  },
  {
   "cell_type": "code",
   "execution_count": 20,
   "id": "9f83e7bc",
   "metadata": {},
   "outputs": [
    {
     "name": "stdout",
     "output_type": "stream",
     "text": [
      "value of x before swapping:5\n",
      "value of y before swapping:2\n",
      "value of x after swapping is 2\n",
      "value of y after swapping is 5\n"
     ]
    }
   ],
   "source": [
    "\n",
    "\n",
    "x= int(input(\"value of x before swapping:\"))\n",
    "y = int(input(\"value of y before swapping:\"))\n",
    "\n",
    "x,y=y,x\n",
    "print(\"value of x after swapping is\",x)\n",
    "print(\"value of y after swapping is\",y)"
   ]
  },
  {
   "cell_type": "code",
   "execution_count": null,
   "id": "7b0c7427",
   "metadata": {},
   "outputs": [],
   "source": [
    "4. Write a Python program to swap two variables?"
   ]
  },
  {
   "cell_type": "code",
   "execution_count": null,
   "id": "5ade52ae",
   "metadata": {},
   "outputs": [],
   "source": [
    "\n",
    "\n",
    "x= int(input(\"value of x before swapping:\"))\n",
    "y = int(input(\"value of y before swapping:\"))\n",
    "\n",
    "temp = x\n",
    "x= y\n",
    "y = temp\n",
    "\n",
    "print(\"value of x after swapping is\",x)\n",
    "print(\"value of y after swapping is\",y)\n",
    "\n",
    "\n"
   ]
  },
  {
   "cell_type": "markdown",
   "id": "7e5a8caf",
   "metadata": {},
   "source": [
    "5. Write a Python program to generate a random number?\n",
    "\n"
   ]
  },
  {
   "cell_type": "code",
   "execution_count": 29,
   "id": "616fd3ce",
   "metadata": {},
   "outputs": [
    {
     "name": "stdout",
     "output_type": "stream",
     "text": [
      "76\n"
     ]
    }
   ],
   "source": [
    "import random\n",
    "x = random. randint(0,100)\n",
    "print(x)\n"
   ]
  },
  {
   "cell_type": "code",
   "execution_count": null,
   "id": "3889a7c0",
   "metadata": {},
   "outputs": [],
   "source": []
  }
 ],
 "metadata": {
  "kernelspec": {
   "display_name": "Python 3 (ipykernel)",
   "language": "python",
   "name": "python3"
  },
  "language_info": {
   "codemirror_mode": {
    "name": "ipython",
    "version": 3
   },
   "file_extension": ".py",
   "mimetype": "text/x-python",
   "name": "python",
   "nbconvert_exporter": "python",
   "pygments_lexer": "ipython3",
   "version": "3.9.13"
  }
 },
 "nbformat": 4,
 "nbformat_minor": 5
}
