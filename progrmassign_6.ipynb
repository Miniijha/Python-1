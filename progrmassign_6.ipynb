{
 "cells": [
  {
   "cell_type": "code",
   "execution_count": 3,
   "id": "19254264",
   "metadata": {},
   "outputs": [
    {
     "name": "stdout",
     "output_type": "stream",
     "text": [
      "enter the number :7\n",
      "Fibonacci Sequence\n",
      "0\n",
      "1\n",
      "1\n",
      "2\n",
      "3\n",
      "5\n",
      "8\n"
     ]
    }
   ],
   "source": [
    "#1.Write a Python Program to Display Fibonacci Sequence Using Recursion?//\n",
    "\n",
    "def fibo(n):\n",
    "    if n <=1:\n",
    "        return n\n",
    "    else:\n",
    "        return fibo(n-1)+fibo(n-2)\n",
    "n=int(input(\"enter the number :\"))\n",
    "if n<=0:\n",
    "    print(\"enter a positive number :\")\n",
    "else:\n",
    "    print(\"Fibonacci Sequence\")\n",
    "    for i in range(n):\n",
    "        print (fibo(i))"
   ]
  },
  {
   "cell_type": "code",
   "execution_count": 4,
   "id": "54f3a939",
   "metadata": {},
   "outputs": [
    {
     "name": "stdout",
     "output_type": "stream",
     "text": [
      "enter the value:4\n",
      "The factorial of  4 is : 24\n"
     ]
    }
   ],
   "source": [
    "#2. Write a Python Program to Find Factorial of Number Using Recursion?\n",
    "\n",
    "\n",
    "def fact(a):\n",
    "    if a == 0:\n",
    "        return 1\n",
    "    else:\n",
    "        return ((a)*fact(a-1))\n",
    "n= int(input(\"enter the value:\"))\n",
    "result = fact(n)\n",
    "print(\"The factorial of \", n,\"is :\",result)"
   ]
  },
  {
   "cell_type": "code",
   "execution_count": 5,
   "id": "0b913238",
   "metadata": {},
   "outputs": [
    {
     "name": "stdout",
     "output_type": "stream",
     "text": [
      "Enter your weight in kg :64\n",
      "Enter your height in meter :1.64\n",
      "23.795359904818564\n"
     ]
    }
   ],
   "source": [
    "#3. Write a Python Program to calculate your Body Mass Index?\n",
    "\n",
    "w= float(input(\"Enter your weight in kg :\"))\n",
    "h= float(input(\"Enter your height in meter :\"))\n",
    "def BMI(w,h):\n",
    "    return w/h**2\n",
    "bmi=BMI(w,h)\n",
    "print(bmi)"
   ]
  },
  {
   "cell_type": "code",
   "execution_count": 6,
   "id": "ae5fb25f",
   "metadata": {},
   "outputs": [
    {
     "name": "stdout",
     "output_type": "stream",
     "text": [
      "Enter the number10\n",
      "he natural logarithm of  10 is : 2.302585092994046\n"
     ]
    }
   ],
   "source": [
    "#4. Write a Python Program to calculate the natural logarithm of any number?\n",
    "import math\n",
    "n= int(input(\"Enter the number\"))\n",
    "x=math.log(n)\n",
    "print(\"he natural logarithm of \",n ,\"is :\",x)"
   ]
  },
  {
   "cell_type": "code",
   "execution_count": 7,
   "id": "90df0dc1",
   "metadata": {},
   "outputs": [
    {
     "name": "stdout",
     "output_type": "stream",
     "text": [
      "Enter the number5\n",
      "the cube sum of first  5 natural numbers is  225\n"
     ]
    }
   ],
   "source": [
    "#5.Write a Python Program for cube sum of first n natural numbers?\n",
    "n=int(input(\"Enter the number\"))\n",
    "cube= 0\n",
    "for i in range(1,n+1):\n",
    "    cube= cube + i *i*i\n",
    "print(\"the cube sum of first \",n ,\"natural numbers is \" ,cube)"
   ]
  },
  {
   "cell_type": "code",
   "execution_count": null,
   "id": "ed2f3d9f",
   "metadata": {},
   "outputs": [],
   "source": []
  }
 ],
 "metadata": {
  "kernelspec": {
   "display_name": "Python 3 (ipykernel)",
   "language": "python",
   "name": "python3"
  },
  "language_info": {
   "codemirror_mode": {
    "name": "ipython",
    "version": 3
   },
   "file_extension": ".py",
   "mimetype": "text/x-python",
   "name": "python",
   "nbconvert_exporter": "python",
   "pygments_lexer": "ipython3",
   "version": "3.9.13"
  }
 },
 "nbformat": 4,
 "nbformat_minor": 5
}
