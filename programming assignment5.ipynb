{
 "cells": [
  {
   "cell_type": "code",
   "execution_count": 4,
   "id": "3ab7abd7",
   "metadata": {},
   "outputs": [
    {
     "name": "stdout",
     "output_type": "stream",
     "text": [
      "Enter the first number:5\n",
      "Enter the second number:4\n",
      "The L.C.M. of 5 and 4 is 20\n"
     ]
    }
   ],
   "source": [
    "#1.\tWrite a Python Program to Find LCM?\n",
    "\n",
    "def calculate_lcm(m,n):\n",
    "    if m>n:\n",
    "        greater = m\n",
    "    else:\n",
    "        greater = n\n",
    "        \n",
    "    while(True):\n",
    "        if ((greater % m == 0) and (greater % n == 0)):\n",
    "            lcm= greater\n",
    "            \n",
    "            break\n",
    "            \n",
    "        greater +=1\n",
    "    return lcm\n",
    "    \n",
    "n1=int(input(\"Enter the first number:\"))\n",
    "n2=int(input(\"Enter the second number:\"))\n",
    "\n",
    "\n",
    "print(\"The L.C.M. of\", n1,\"and\", n2,\"is\", calculate_lcm(n1, n2))"
   ]
  },
  {
   "cell_type": "code",
   "execution_count": 5,
   "id": "e22cfdb6",
   "metadata": {},
   "outputs": [
    {
     "name": "stdout",
     "output_type": "stream",
     "text": [
      "Enter the first number:5\n",
      "Enter the second number:4\n",
      "The H.C.F of 5 and 4 is 1\n"
     ]
    }
   ],
   "source": [
    "#2.\tWrite a Python Program to Find HCF?\n",
    "\n",
    "def calculate_hcf(m,n):\n",
    "    if m>n:\n",
    "        smaller = m\n",
    "    else:\n",
    "        smaller= n\n",
    "        \n",
    "    for i in range(1,smaller + 1):  \n",
    "        if((m % i == 0) and (n % i == 0)):  \n",
    "            hcf = i  \n",
    "    return hcf  \n",
    "    \n",
    "n1=int(input(\"Enter the first number:\"))\n",
    "n2=int(input(\"Enter the second number:\"))\n",
    "\n",
    "\n",
    "print(\"The H.C.F of\", n1,\"and\", n2,\"is\", calculate_hcf(n1, n2))"
   ]
  },
  {
   "cell_type": "code",
   "execution_count": 6,
   "id": "9663fcaa",
   "metadata": {},
   "outputs": [
    {
     "name": "stdout",
     "output_type": "stream",
     "text": [
      " Enter the Decimal Number: 50\n",
      "The given decimal number 50 in Binary number is:  0b110010\n",
      "The given decimal number 50 in Octal number is:  0o62\n",
      "The given decimal number 50  in Hexadecimal number is:  0x32\n"
     ]
    }
   ],
   "source": [
    "#3.\tWrite a Python Program to Convert Decimal to Binary, Octal and Hexadecimal?\n",
    "\n",
    "def decimal_into_binary(decimal_1):  \n",
    "    decimal = int(decimal_1)\n",
    "\n",
    "    print (\"The given decimal number\", decimal, \"in Binary number is: \", bin(decimal))\n",
    "\n",
    "def decimal_into_octal(decimal_1):  \n",
    "    decimal = int(decimal_1)  \n",
    "    \n",
    "     \n",
    "    print (\"The given decimal number\", decimal, \"in Octal number is: \", oct(decimal))\n",
    "    \n",
    "def decimal_into_hexadecimal(decimal_1):  \n",
    "    decimal = int(decimal_1)\n",
    "    \n",
    "    print (\"The given decimal number\", decimal, \" in Hexadecimal number is: \", hex(decimal))\n",
    "    \n",
    "    \n",
    "decimal_1 = int (input (\" Enter the Decimal Number: \"))  \n",
    "decimal_into_binary(decimal_1)  \n",
    "decimal_into_octal(decimal_1)  \n",
    "decimal_into_hexadecimal(decimal_1)"
   ]
  },
  {
   "cell_type": "code",
   "execution_count": 10,
   "id": "5b70df62",
   "metadata": {},
   "outputs": [
    {
     "name": "stdout",
     "output_type": "stream",
     "text": [
      "Please enter a character: $\n",
      "The ASCII value of '$' is  36\n"
     ]
    }
   ],
   "source": [
    "#4.\tWrite a Python Program To Find ASCII value of a character?\n",
    "\n",
    "K = input(\"Please enter a character: \")    \n",
    "    \n",
    "print (\"The ASCII value of '\" + K + \"' is \", ord(K))\n"
   ]
  },
  {
   "cell_type": "code",
   "execution_count": 15,
   "id": "d7c3ef24",
   "metadata": {},
   "outputs": [
    {
     "name": "stdout",
     "output_type": "stream",
     "text": [
      "Please select the operation.\n",
      "a. Add\n",
      "b. Subtract\n",
      "c. Multiply\n",
      "d. Divide\n",
      "Please enter choice (a/ b/ c/ d): a\n",
      "Please enter the first number: 4\n",
      "Please enter the second number: 2\n",
      "4  +  2  =  6\n"
     ]
    }
   ],
   "source": [
    "#5.\tWrite a Python Program to Make a Simple Calculator with 4 basic mathematical operations?\n",
    "\n",
    "def add(x,y):\n",
    "    return x+y\n",
    "def subtract(x,y) :\n",
    "    return x-y\n",
    "def multiply(x,y) :\n",
    "    return x*y\n",
    "def divide(x,y):\n",
    "    return x/y\n",
    "\n",
    "print (\"Please select the operation.\")    \n",
    "print (\"a. Add\")    \n",
    "print (\"b. Subtract\")    \n",
    "print (\"c. Multiply\")    \n",
    "print (\"d. Divide\")\n",
    "\n",
    "choice = input(\"Please enter choice (a/ b/ c/ d): \")\n",
    "num_1=int (input (\"Please enter the first number: \")) \n",
    "num_2=int (input (\"Please enter the second number: \"))\n",
    "\n",
    "if choice == 'a':    \n",
    "    print (num_1, \" + \", num_2, \" = \", add(num_1, num_2))    \n",
    "    \n",
    "elif choice == 'b':    \n",
    "    print (num_1, \" - \", num_2, \" = \", subtract(num_1, num_2))    \n",
    "    \n",
    "elif choice == 'c':    \n",
    "    print (num1, \" * \", num2, \" = \", multiply(num1, num2))    \n",
    "elif choice == 'd':    \n",
    "    print (num_1, \" / \", num_2, \" = \", divide(num_1, num_2))    \n",
    "else:    \n",
    "    print (\"This is an invalid input\")"
   ]
  },
  {
   "cell_type": "code",
   "execution_count": null,
   "id": "730c91fe",
   "metadata": {},
   "outputs": [],
   "source": []
  }
 ],
 "metadata": {
  "kernelspec": {
   "display_name": "Python 3 (ipykernel)",
   "language": "python",
   "name": "python3"
  },
  "language_info": {
   "codemirror_mode": {
    "name": "ipython",
    "version": 3
   },
   "file_extension": ".py",
   "mimetype": "text/x-python",
   "name": "python",
   "nbconvert_exporter": "python",
   "pygments_lexer": "ipython3",
   "version": "3.9.13"
  }
 },
 "nbformat": 4,
 "nbformat_minor": 5
}
