{
 "cells": [
  {
   "cell_type": "code",
   "execution_count": null,
   "id": "e2bd8e3e",
   "metadata": {},
   "outputs": [],
   "source": [
    "Write a Python program to convert kilometers to miles?"
   ]
  },
  {
   "cell_type": "code",
   "execution_count": null,
   "id": "258df5bc",
   "metadata": {},
   "outputs": [],
   "source": [
    "kilometers = float(input(\"enter the value in kilometers :\"))\n",
    "conversion_factor = 0.621371\n",
    "miles = kilometers*conversion_factor\n",
    "print(\" %.2f kilometers is equal to  %.2f miles\" %(kilometers,miles))"
   ]
  },
  {
   "cell_type": "code",
   "execution_count": null,
   "id": "8344b239",
   "metadata": {},
   "outputs": [],
   "source": [
    "Write a Python program to convert Celsius to Fahrenheit?"
   ]
  },
  {
   "cell_type": "code",
   "execution_count": null,
   "id": "2cc5727c",
   "metadata": {},
   "outputs": [],
   "source": [
    "Celsius= float(input(\"enter the value in Celsius :\"))\n",
    "Fahrenheit = Celsius* 1.8  + 32\n",
    "print(\" %.2f Celsius  is equal to  %.2f Fahrenheit\" %(Celsius,Fahrenheit))"
   ]
  },
  {
   "cell_type": "code",
   "execution_count": null,
   "id": "5c947640",
   "metadata": {},
   "outputs": [],
   "source": [
    "3. Write a Python program to display calendar?"
   ]
  },
  {
   "cell_type": "code",
   "execution_count": null,
   "id": "e33e4252",
   "metadata": {},
   "outputs": [],
   "source": [
    "year = int(input(\"Enter year: \"))\n",
    "month = int(input(\"Enter month: \"))\n",
    "import calendar\n",
    "print(calendar.month(year, month))"
   ]
  },
  {
   "cell_type": "code",
   "execution_count": null,
   "id": "ee38da14",
   "metadata": {},
   "outputs": [],
   "source": [
    "Write a Python program to solve quadratic equation?"
   ]
  },
  {
   "cell_type": "code",
   "execution_count": null,
   "id": "5beb27cf",
   "metadata": {},
   "outputs": [],
   "source": [
    "a=float(input(\"Enter the value of a :\"))\n",
    "b=float(input(\"Enter the value of b :\"))\n",
    "c=float(input(\"Enter the value of c :\"))\n",
    "\n",
    "import cmath\n",
    "d = (b**2) - (4*a*c)\n",
    "\n",
    "sol1 = (-b-cmath.sqrt(d))/(2*a)\n",
    "sol2 = (-b+cmath.sqrt(d))/(2*a)\n",
    "\n",
    "print('The solution are {0} and {1}'.format(sol1,sol2))\n"
   ]
  },
  {
   "cell_type": "code",
   "execution_count": null,
   "id": "1912c7be",
   "metadata": {},
   "outputs": [],
   "source": [
    "Write a Python program to swap two variables without temp variable?"
   ]
  },
  {
   "cell_type": "code",
   "execution_count": null,
   "id": "19d848cc",
   "metadata": {},
   "outputs": [],
   "source": [
    "x=float(input(\"enter the value of x before swapping :\"))\n",
    "y=float(input(\"enter the value of y before swapping :\"))\n",
    "\n",
    "x,y = y,x\n",
    "print(\"the value of x after swapping is\",x)\n",
    "print(\"the value of y after swapping is\",y)"
   ]
  },
  {
   "cell_type": "code",
   "execution_count": null,
   "id": "20ddc1f0",
   "metadata": {},
   "outputs": [],
   "source": []
  }
 ],
 "metadata": {
  "kernelspec": {
   "display_name": "Python 3 (ipykernel)",
   "language": "python",
   "name": "python3"
  },
  "language_info": {
   "codemirror_mode": {
    "name": "ipython",
    "version": 3
   },
   "file_extension": ".py",
   "mimetype": "text/x-python",
   "name": "python",
   "nbconvert_exporter": "python",
   "pygments_lexer": "ipython3",
   "version": "3.9.13"
  }
 },
 "nbformat": 4,
 "nbformat_minor": 5
}
