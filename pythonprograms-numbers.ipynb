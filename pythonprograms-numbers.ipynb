{
 "cells": [
  {
   "cell_type": "code",
   "execution_count": 28,
   "id": "e366e919",
   "metadata": {},
   "outputs": [
    {
     "name": "stdout",
     "output_type": "stream",
     "text": [
      "enter the number :-1\n",
      "-1 is negative\n"
     ]
    }
   ],
   "source": [
    "#Write a Python Program to Check if a Number is Positive, Negative or Zero?\n",
    "\n",
    "n = int(input(\"enter the number :\"))\n",
    "if n>0 :\n",
    "    print(n,\"is positive\")\n",
    "elif n==0  :\n",
    "    print(n,\"is zero\")\n",
    "    \n",
    "else :\n",
    "    print(n,\"is negative\")\n",
    "    \n"
   ]
  },
  {
   "cell_type": "code",
   "execution_count": 26,
   "id": "20d96b66",
   "metadata": {},
   "outputs": [
    {
     "name": "stdout",
     "output_type": "stream",
     "text": [
      "enter the number :0\n",
      "0 is zero\n"
     ]
    }
   ],
   "source": [
    "# Write a Python Program to Check if a Number is Odd or Even?\n",
    "\n",
    "n = int(input(\"enter the number :\"))\n",
    "if n%2==0 and n!=0:\n",
    "    print(n,\"is even\")\n",
    "elif n%2!=0 and n!=0 :\n",
    "    print(n,\"is odd\")\n",
    "    \n",
    "else :\n",
    "    print(n,\"is zero\")\n",
    "    \n",
    "    "
   ]
  },
  {
   "cell_type": "code",
   "execution_count": 24,
   "id": "d6d62ccd",
   "metadata": {},
   "outputs": [
    {
     "name": "stdout",
     "output_type": "stream",
     "text": [
      "Enter a year: 1992\n",
      "1992 is a leap year\n"
     ]
    }
   ],
   "source": [
    " # Write a Python Program to Check Leap Year?\n",
    "year = int(input(\"Enter a year: \"))\n",
    "\n",
    "\n",
    "# divided by 100 means century year (ending with 00)\n",
    "# century year divided by 400 is leap year\n",
    "if (year % 400 == 0) and (year % 100 == 0):\n",
    "    print(\"{0} is a leap year\".format(year))\n",
    "\n",
    "# not divided by 100 means not a century year\n",
    "# year divided by 4 is a leap year\n",
    "elif (year % 4 ==0) and (year % 100 != 0):\n",
    "    print(\"{0} is a leap year\".format(year))\n",
    "\n",
    "# if not divided by both 400 (century year) and 4 (not century year) year is not leap year\n",
    "else:\n",
    "    print(\"{0} is not a leap year\".format(year))"
   ]
  },
  {
   "cell_type": "code",
   "execution_count": null,
   "id": "561a6578",
   "metadata": {},
   "outputs": [],
   "source": [
    "#Write a Python Program to Check Prime Number?\n",
    "\n",
    "n = int(input(\"enter the number :\"))\n",
    "if n > 1:\n",
    "    for i in range(2,int(n/2)+1):\n",
    "        if (n%i)==0:\n",
    "            print(n,\"is not prime\")\n",
    "            break\n",
    "        else:\n",
    "                print(n,\"is prime\")\n",
    "                \n",
    "else:\n",
    "            print(n,\"is not prime\")\n"
   ]
  },
  {
   "cell_type": "code",
   "execution_count": null,
   "id": "250f8446",
   "metadata": {},
   "outputs": [],
   "source": [
    "#Write a Python Program to Print all Prime Numbers in an Interval of 1-10000?\n",
    "\n",
    "lower=int(input(\"Enter the lower range:\"))\n",
    "upper=int(input(\"Enter the upper range:\"))\n",
    "for num in range (lower, upper+1):\n",
    "   \n",
    " if num > 1:\n",
    "        for i in range(2, num):\n",
    "            if (num % i) == 0:\n",
    "                break\n",
    "        else:\n",
    "            print(num)"
   ]
  },
  {
   "cell_type": "code",
   "execution_count": null,
   "id": "2d5c5875",
   "metadata": {},
   "outputs": [],
   "source": []
  }
 ],
 "metadata": {
  "kernelspec": {
   "display_name": "Python 3 (ipykernel)",
   "language": "python",
   "name": "python3"
  },
  "language_info": {
   "codemirror_mode": {
    "name": "ipython",
    "version": 3
   },
   "file_extension": ".py",
   "mimetype": "text/x-python",
   "name": "python",
   "nbconvert_exporter": "python",
   "pygments_lexer": "ipython3",
   "version": "3.9.13"
  }
 },
 "nbformat": 4,
 "nbformat_minor": 5
}
