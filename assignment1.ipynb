{
 "cells": [
  {
   "cell_type": "raw",
   "id": "fda585e3",
   "metadata": {},
   "source": [
    "1. In the below elements which of them are values or an expression? eg:- values can be integer or string and expressions will be mathematical operators.\n",
    "* \n",
    "'hello'\n",
    "-87.8\n",
    "- \n",
    "/ \n",
    "+\t\n",
    "6 \n",
    "\n",
    "\n",
    " \n",
    "expressions - *,-,/,+,\n",
    "value - \"hello\" , 6, -87.8"
   ]
  },
  {
   "cell_type": "raw",
   "id": "479b0017",
   "metadata": {},
   "source": [
    " 2. What is the difference between string and variable?\n",
    "\n",
    "strings- Python strings are \"immutable\" which means they cannot be changed after they are created.Strings are enclosed within double or single inverted commas.\n",
    "\n",
    "variable -Python variable are  the values assigned and are  mutable which means they can be chaged after they are created."
   ]
  },
  {
   "cell_type": "raw",
   "id": "d7257dab",
   "metadata": {},
   "source": [
    "3. Describe three different data types.\n",
    "\n",
    "Python has different data types\n",
    "Numberic is the first one.It includes Interget data type,Floating data type and Complex data type\n",
    "\n",
    "Integer data type is a typethat contains positive or negative whole numbers.\n",
    "Floating data type - this data type stores the value in decimal format\n",
    "complex data type - This data type include complex number.\n",
    "\n",
    "Boolean Data type - This data type is used to store  true and false in python\n",
    "\n",
    "Sequence Data type - This data type includes List,String and Tuples\n",
    "\n",
    "\n"
   ]
  },
  {
   "cell_type": "raw",
   "id": "4cdcb492",
   "metadata": {},
   "source": [
    "4. What is an expression made up of? What do all expressions do?\n",
    "\n",
    "An expression is a combination  made up of variables, operators, and method invocations, which are constructed according to the syntax of the language, that evaluates to a single value.\n",
    "\n",
    "Expression is a combination of operators and operands that is interpreted to produce some other value. In any programming language, an expression is evaluated as per the precedence of its operators.\n",
    "\n"
   ]
  },
  {
   "cell_type": "raw",
   "id": "8e90fedb",
   "metadata": {},
   "source": [
    "5. This assignment statements, like spam = 10. What is the difference between an expression and a statement?\n",
    "\n",
    "An expression is a a combination of variables,operators that is interpreted to produce some other value where as statement are two sided in execution.Also an expression evaluates to a single value where as  a statement does not do so."
   ]
  },
  {
   "cell_type": "raw",
   "id": "f08231c5",
   "metadata": {},
   "source": [
    "6. After running the following code, what does the variable bacon contain?\n",
    "bacon = 22\n",
    "bacon + 1\n",
    "\n",
    "\n",
    "\n",
    "bacon = 22\n",
    "bacon + 1\n",
    "\n",
    "Here in this code the output will be 23 but the value of bacon will be 22 only since the addition is not assigned to bacon"
   ]
  },
  {
   "cell_type": "code",
   "execution_count": null,
   "id": "d54121f9",
   "metadata": {},
   "outputs": [],
   "source": [
    "7. What should the values of the following two terms be?\n",
    "'spam' + 'spamspam'\n",
    "'spam' * 3\n",
    "\n",
    "Since these all are string the o/p for both the code would be same\n"
   ]
  },
  {
   "cell_type": "code",
   "execution_count": null,
   "id": "88f400cc",
   "metadata": {},
   "outputs": [],
   "source": [
    "8. Why is eggs a valid variable name while 100 is invalid?\n",
    "\n",
    "variable name can statrt with alphabet but not with integer  values\n"
   ]
  },
  {
   "cell_type": "code",
   "execution_count": null,
   "id": "313d1a79",
   "metadata": {},
   "outputs": [],
   "source": [
    "9. What three functions can be used to get the integer, floating-point number, or string version of a value?\n",
    "\n",
    "The int() , float(),and str() functions can be used to get the integer, floating-point number, or string version of a value"
   ]
  },
  {
   "cell_type": "code",
   "execution_count": null,
   "id": "2b7995a5",
   "metadata": {},
   "outputs": [],
   "source": [
    "10. Why does this expression cause an error? How can you fix it?\n",
    "'I have eaten ' + 99 + ' burritos.'\n",
    "\n",
    "Concatenation ca be done only with string and 99 is the integer here so there is an  error .We can solve this error by making the integer into string.\n",
    "'I have eaten ' + '99' + ' burritos.'"
   ]
  }
 ],
 "metadata": {
  "kernelspec": {
   "display_name": "Python 3 (ipykernel)",
   "language": "python",
   "name": "python3"
  },
  "language_info": {
   "codemirror_mode": {
    "name": "ipython",
    "version": 3
   },
   "file_extension": ".py",
   "mimetype": "text/x-python",
   "name": "python",
   "nbconvert_exporter": "python",
   "pygments_lexer": "ipython3",
   "version": "3.9.13"
  }
 },
 "nbformat": 4,
 "nbformat_minor": 5
}
