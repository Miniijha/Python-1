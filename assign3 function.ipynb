{
 "cells": [
  {
   "cell_type": "raw",
   "id": "50b9755a",
   "metadata": {},
   "source": [
    "1. Why are functions advantageous to have in your programs?\n",
    " A function is block of data which runs only  when its called.It makes the code  reusable,efficient.It is easly maintable and thus  function make code reusable.function makes code extensible"
   ]
  },
  {
   "cell_type": "raw",
   "id": "4dc7c7ca",
   "metadata": {},
   "source": [
    "2. When does the code in a function run: when it's specified or when it's called?\n",
    " A function runs when it is called"
   ]
  },
  {
   "cell_type": "raw",
   "id": "1dae29d8",
   "metadata": {},
   "source": [
    "3. What statement creates a function?\n",
    "To create function in python we use def keyword,then write the function identifier (name) followed by parentheses and a colon.\n",
    "Here def refers to define\n",
    "example-\n",
    "def function_name():\n",
    "    "
   ]
  },
  {
   "cell_type": "raw",
   "id": "7ffcf4d0",
   "metadata": {},
   "source": [
    "4. What is the difference between a function and a function call?\n",
    "Function is a block of data which runs only when it is called.Funtion call is an expression that calls function to execute the code in function"
   ]
  },
  {
   "cell_type": "raw",
   "id": "6ef567ba",
   "metadata": {},
   "source": [
    "5. How many global scopes are there in a Python program? How many local scopes?\n",
    "There is only one global scopes in python per program.This scope remains in existence until the program terminates and all its names are forgotten. Otherwise, the next time we run the program, the names would remember their values from the previous run.\n",
    "\n",
    "Local Scope — Local scope contains things defined inside code blocks. A local variable has local scope. A local variable is only accessible where it's declared"
   ]
  },
  {
   "cell_type": "raw",
   "id": "c4b9af9d",
   "metadata": {},
   "source": [
    "6. What happens to variables in a local scope when the function call returns?\n",
    "The variable  only exists while the function is being executed — we call this its lifetime. When the execution of the function terminates (returns), the local variables are destroyed"
   ]
  },
  {
   "cell_type": "raw",
   "id": "c4cff2cf",
   "metadata": {},
   "source": [
    "7. What is the concept of a return value? Is it possible to have a return value in an expression?\n",
    " Return Value is the value which return when the function is completes.Yes the return value can be expression."
   ]
  },
  {
   "cell_type": "raw",
   "id": "759fbdb6",
   "metadata": {},
   "source": [
    "8.If a function does not have a return statement, what is the return value of a call to that function?\n",
    "If a function doesn't have return statement then it returns none."
   ]
  },
  {
   "cell_type": "raw",
   "id": "ea77e1af",
   "metadata": {},
   "source": [
    "9. How do you make a function variable refer to the global variable?\n",
    "A variable created inside a function is local variable and can be only used inside the function. in order to make variable global we need use global keyword.\n",
    "ex -\"\"\"\"\"\"\n",
    "def myfunc():\n",
    "  global x\n",
    "  x = \"Mini\"\n",
    "\n",
    "myfunc()\n",
    "\n",
    "print(\"My name is \" + x)"
   ]
  },
  {
   "cell_type": "raw",
   "id": "b7c00521",
   "metadata": {},
   "source": [
    "10. What is the data type of None?\n",
    "None is used to define null value.The data type of none its itself i.e. None Data Type"
   ]
  },
  {
   "cell_type": "raw",
   "id": "1d62db9a",
   "metadata": {},
   "source": [
    "11. What does the sentence import areallyourpetsnamederic do?\n",
    "The sentence imports a module named  areallyourpetsnamederic"
   ]
  },
  {
   "cell_type": "raw",
   "id": "66ea8147",
   "metadata": {},
   "source": [
    "12. If you had a bacon() feature in a spam module, what would you call it after importing spam?\n",
    "The function will be called spam.bacon()"
   ]
  },
  {
   "cell_type": "raw",
   "id": "18641d90",
   "metadata": {},
   "source": [
    "13. What can you do to save a programme from crashing if it encounters an error?\n",
    "Each and every exception has to be handled by the programmer to avoid the program from crashing abruptly. This is done by writing additional code in a program to give proper messages or instructions to the user on encountering an exception. This process is known as exception handling.       "
   ]
  },
  {
   "cell_type": "raw",
   "id": "b3d0dd8e",
   "metadata": {},
   "source": [
    "14. What is the purpose of the try clause? What is the purpose of the except clause?\n",
    "A try block is the block of code (contains a set of statements) in which exceptions can occur; it's used to enclose the code that might throw an exception. The try block is always followed by a catch block, which handles the exception that occurs in the associated try block.\n",
    "The except block helps to  handle the error. It defines a block of code to run if the try block raises an error."
   ]
  }
 ],
 "metadata": {
  "kernelspec": {
   "display_name": "Python 3 (ipykernel)",
   "language": "python",
   "name": "python3"
  },
  "language_info": {
   "codemirror_mode": {
    "name": "ipython",
    "version": 3
   },
   "file_extension": ".py",
   "mimetype": "text/x-python",
   "name": "python",
   "nbconvert_exporter": "python",
   "pygments_lexer": "ipython3",
   "version": "3.9.13"
  }
 },
 "nbformat": 4,
 "nbformat_minor": 5
}
