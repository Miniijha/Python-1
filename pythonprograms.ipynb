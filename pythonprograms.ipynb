{
 "cells": [
  {
   "cell_type": "code",
   "execution_count": null,
   "id": "d94ce0e7",
   "metadata": {},
   "outputs": [],
   "source": [
    "# Write a Python program to find those numbers which are divisible by 7 and multiple of 5, between 1500 and 2700 (both included).\n",
    "\n",
    "\n",
    "for i in range(1500,2701):\n",
    "\n",
    "    if i%7==0 and i%5==0:\n",
    "\n",
    "        print(\"  \",i)"
   ]
  },
  {
   "cell_type": "code",
   "execution_count": null,
   "id": "397c5895",
   "metadata": {},
   "outputs": [],
   "source": [
    "# Write a Python program to find those numbers which are divisible by 7 and multiple of 5, between 1500 and 2700 (both included).\n",
    "\n",
    "lower=int(input(\"Enter the lower range:\"))\n",
    "upper=int(input(\"Enter the upper range:\"))\n",
    "for i in range (lower,upper+1):\n",
    "    if(i%7==0 and i%5==0):\n",
    "        print(i)"
   ]
  },
  {
   "cell_type": "code",
   "execution_count": null,
   "id": "b7b2f157",
   "metadata": {},
   "outputs": [],
   "source": [
    "#2.\tPython program to add two numbers\n",
    "\n",
    "\n",
    "x=float(input(\"enter the fisrt number :\"))\n",
    "y=float(input(\"enter the second number :\"))\n",
    "sum =x +y\n",
    "print(\"sum of first and second number\",sum)"
   ]
  },
  {
   "cell_type": "code",
   "execution_count": null,
   "id": "11c1dbc6",
   "metadata": {},
   "outputs": [],
   "source": [
    "#3.\tMaximum of two numbers in Python\n",
    "\n",
    "x=float(input(\"enter the fisrt number :\"))\n",
    "y=float(input(\"enter the second number :\"))\n",
    "\n",
    "M= max(x,y)\n",
    "print(\"Maximum of first and second number\",M)"
   ]
  },
  {
   "cell_type": "code",
   "execution_count": null,
   "id": "f37a1462",
   "metadata": {},
   "outputs": [],
   "source": [
    "#4.\tPython Program for factorial of a number\n",
    "\n",
    "\n",
    "num = int(input(\"Enter a number: \"))\n",
    "\n",
    "fact = factorial(num)\n",
    "print(\"the factorial of\",num,\"is\",fact)\n"
   ]
  },
  {
   "cell_type": "code",
   "execution_count": null,
   "id": "764e2cdd",
   "metadata": {},
   "outputs": [],
   "source": [
    "#5.\tPython Program for simple interest\n",
    "\n",
    "\n",
    "p=float(input(\"Enter the prinicipal ampount :\"))\n",
    "r=float(input(\"Enter the rate of interest :\"))\n",
    "t=int(input(\"Enter the time period :\"))\n",
    "\n",
    "si =(p*r*t)/100\n",
    "print(\"The simple interest is\",si)"
   ]
  },
  {
   "cell_type": "code",
   "execution_count": null,
   "id": "4bb8b4da",
   "metadata": {},
   "outputs": [],
   "source": [
    "#6.\tPython Program for compound interest\n",
    "\n",
    "def compound_interest(principal,rate,time):\n",
    "    principal= float(input(\"Enter the prinicipal ampount :\"))\n",
    "    rate=float(input(\"Enter the rate of interest :\"))\n",
    "    time=int(input(\"Enter the time period :\"))\n",
    "    \n",
    "    amount= principa*(pow((1+rate/100),time))\n",
    "    Ci=amount- principal\n",
    "    print((\"The compound interest is\",Ci))\n"
   ]
  },
  {
   "cell_type": "code",
   "execution_count": null,
   "id": "be6ce729",
   "metadata": {},
   "outputs": [],
   "source": [
    "#7.\tPython Program to check Armstrong Number\n",
    "\n",
    "n=int(input(\"enter the number:\"))\n",
    "sum = 0\n",
    "temp  = n\n",
    "while temp > 0:\n",
    "    digit = temp % 10\n",
    "    sum += digit ** 3\n",
    "    temp //= 10\n",
    "    \n",
    "if n==sum:\n",
    "    print(n,\"is an Armstrong number\")\n",
    "else:\n",
    "    print(n,\"is not an Armstrong number\")"
   ]
  },
  {
   "cell_type": "code",
   "execution_count": null,
   "id": "bc3c0d3c",
   "metadata": {},
   "outputs": [],
   "source": [
    "#8.\tPython Program for Program to find area of a circle\n",
    "\n",
    "r=float(input(\"enter the radius of circle :\"))\n",
    "area= 22/7 *r*r\n",
    "print(\"Area of circle is \",area)"
   ]
  },
  {
   "cell_type": "code",
   "execution_count": null,
   "id": "ecb4db25",
   "metadata": {},
   "outputs": [],
   "source": [
    "#9.\tPython program to print all Prime numbers in an Interval\n",
    "\n",
    "lower=int(input(\"Enter the lower range:\"))\n",
    "upper=int(input(\"Enter the upper range:\"))\n",
    "for num in range(lower, upper + 1):\n",
    "   \n",
    "   if num > 1:\n",
    "        for i in range(2, num):\n",
    "            if (num % i) == 0:\n",
    "                break\n",
    "        else:\n",
    "            print(num)"
   ]
  },
  {
   "cell_type": "code",
   "execution_count": null,
   "id": "7d28a5c5",
   "metadata": {},
   "outputs": [],
   "source": [
    "#Python program to check whether a number is Prime or not\n",
    "\n",
    "n = int(input(\"enter the number :\"))\n",
    "if n > 1:\n",
    "    for i in range(2,int(n/2)+1):\n",
    "        if (n%i)==0:\n",
    "            print(n,\"is not prime\")\n",
    "            break\n",
    "        else:\n",
    "                print(n,\"is prime\")\n",
    "                \n",
    "else:\n",
    "            print(n,\"is not prime\")"
   ]
  }
 ],
 "metadata": {
  "kernelspec": {
   "display_name": "Python 3 (ipykernel)",
   "language": "python",
   "name": "python3"
  },
  "language_info": {
   "codemirror_mode": {
    "name": "ipython",
    "version": 3
   },
   "file_extension": ".py",
   "mimetype": "text/x-python",
   "name": "python",
   "nbconvert_exporter": "python",
   "pygments_lexer": "ipython3",
   "version": "3.9.13"
  }
 },
 "nbformat": 4,
 "nbformat_minor": 5
}
