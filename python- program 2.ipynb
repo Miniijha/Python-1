{
 "cells": [
  {
   "cell_type": "code",
   "execution_count": 3,
   "id": "819e79c9",
   "metadata": {},
   "outputs": [
    {
     "name": "stdout",
     "output_type": "stream",
     "text": [
      "True\n",
      "False\n"
     ]
    }
   ],
   "source": [
    "#1.What are the two values of the Boolean data type? How do you write them?\n",
    "\n",
    "#There are two boolean data types - True anD False\n",
    "its written as:\n",
    "x=True\n",
    "y=False\n",
    "print(x)\n",
    "print(y)"
   ]
  },
  {
   "cell_type": "markdown",
   "id": "26eda4e0",
   "metadata": {},
   "source": [
    "2. What are the three different types of Boolean operators?\n",
    "\n",
    "The three different types of boolean operator are:\n",
    "    and\n",
    "    or\n",
    "    not\n",
    "    "
   ]
  },
  {
   "cell_type": "code",
   "execution_count": 14,
   "id": "f0fa0b52",
   "metadata": {},
   "outputs": [
    {
     "name": "stdout",
     "output_type": "stream",
     "text": [
      "True\n",
      "True\n",
      "False\n"
     ]
    }
   ],
   "source": [
    "#example\n",
    "a= True and True\n",
    "b= True or False\n",
    "c = not True\n",
    "print(a)\n",
    "print(b)\n",
    "print(c)"
   ]
  },
  {
   "cell_type": "markdown",
   "id": "dcef118a",
   "metadata": {},
   "source": [
    "#. Make a list of each Boolean operator's truth tables (i.e. every possible combination of Boolean values for the operator and what it evaluate ).\n",
    "\n",
    "True or True is True.\n",
    "True or False is True.\n",
    "False or True is True.\n",
    "False or False is False.\n",
    "True and False is False.\n",
    "False and True is False.\n",
    "False and False is False.\n",
    "not True is False.\n",
    "not  False is True.\n",
    "\n"
   ]
  },
  {
   "cell_type": "code",
   "execution_count": 5,
   "id": "3546a98a",
   "metadata": {},
   "outputs": [
    {
     "name": "stdout",
     "output_type": "stream",
     "text": [
      "False\n",
      "False\n",
      "True\n",
      "False\n",
      "False\n",
      "True\n"
     ]
    }
   ],
   "source": [
    "print((5 > 4) and (3 == 5))\n",
    "print(not (5 > 4))\n",
    "print((5 > 4) or (3 == 5))\n",
    "print(not ((5 > 4) or (3 == 5)))\n",
    "\n",
    "print((True and True) and (True == False))\n",
    "\n",
    "print((not False) or (not True))\n"
   ]
  },
  {
   "cell_type": "markdown",
   "id": "2da5e9e9",
   "metadata": {},
   "source": [
    "#5. What are the six comparison operators?\n",
    "1 - > greater\n",
    "    < smaller\n",
    "    == equal to \n",
    "    != not equal to \n",
    "    <= smaller or equal\n",
    "    >= greater or equal"
   ]
  },
  {
   "cell_type": "markdown",
   "id": "be29784f",
   "metadata": {},
   "source": [
    "#How do you tell the difference between the equal to and assignment operators?Describe a condition and when you would use one.\n",
    "\n",
    "To assign the value to a variable we use single \"=\" where as to comapre to values  we use\"==\".\n"
   ]
  },
  {
   "cell_type": "code",
   "execution_count": 7,
   "id": "b524e224",
   "metadata": {},
   "outputs": [
    {
     "name": "stdout",
     "output_type": "stream",
     "text": [
      "10\n",
      "value of x is eual to 10\n"
     ]
    }
   ],
   "source": [
    "#example\n",
    "x=10\n",
    "print (x)\n",
    "if x==10 :\n",
    "    print(\"value of x is eual to 10\")"
   ]
  },
  {
   "cell_type": "code",
   "execution_count": 21,
   "id": "4ab5a4ba",
   "metadata": {},
   "outputs": [
    {
     "name": "stdout",
     "output_type": "stream",
     "text": [
      "ham\n",
      "spam\n",
      "spam\n"
     ]
    }
   ],
   "source": [
    "spam = 0\n",
    "if spam == 10:\n",
    "     print('eggs')  # here is the first block\n",
    "if spam > 5:\n",
    "    print('bacon') # here is the second block\n",
    "else:\n",
    "    print('ham') # here is the third block\n",
    "print('spam')\n",
    "print('spam')\n"
   ]
  },
  {
   "cell_type": "code",
   "execution_count": 25,
   "id": "85ced867",
   "metadata": {},
   "outputs": [
    {
     "name": "stdout",
     "output_type": "stream",
     "text": [
      "enter the number2\n",
      "Howdy\n"
     ]
    }
   ],
   "source": [
    "#. Write code that prints Hello if 1 is stored in spam, prints Howdy if 2 is stored in spam, and prints Greetings! if anything else is stored in spam.\n",
    "\n",
    "spam=int(input(\"enter the number\"))\n",
    "if spam==1:\n",
    "    print(\"Hello\")\n",
    "elif spam==2:\n",
    "    print(\"Howdy\")\n",
    "else:\n",
    "        print(\"Greetings!\")"
   ]
  },
  {
   "cell_type": "markdown",
   "id": "0a8b6259",
   "metadata": {},
   "source": [
    "If your programme is stuck in an endless loop, what keys you’ll press?\n",
    "\n",
    "To end the endless loop we will press Ctrl+C\n"
   ]
  },
  {
   "cell_type": "code",
   "execution_count": null,
   "id": "70433fe7",
   "metadata": {},
   "outputs": [],
   "source": [
    "#10. How can you tell the difference between break and continue?\n",
    "Break statement stops the entire process of the loop.Break also terminates the remaining iterations.  \n",
    "Continue statement only stops the current iteration of the loop.Continue doesnt terminate the next iterations; it resumes with the successive iterations.\n",
    "\n",
    "In siple words the break statement will move the execution outside the loop if break condtion is satisfied. Whereas the continue statement will move the execution to the start of the loop."
   ]
  },
  {
   "cell_type": "raw",
   "id": "2236305e",
   "metadata": {},
   "source": [
    "#11. In a for loop, what is the difference between range(10), range(0, 10), and range(0, 10, 1)?\n",
    "Ans: The Differences are as follows:\n",
    "\n",
    "The range(10) call range from 0 to 9 (but not include 10)\n",
    "The range (0,10) explicitly tells the loop to start at 0\n",
    "The range(0,10,1) explicitly tells the loop to increase the variable by 1 on each iteration."
   ]
  },
  {
   "cell_type": "code",
   "execution_count": 12,
   "id": "acca3440",
   "metadata": {},
   "outputs": [
    {
     "name": "stdout",
     "output_type": "stream",
     "text": [
      "----- using for loop -----\n",
      "1\n",
      "2\n",
      "3\n",
      "4\n",
      "5\n",
      "6\n",
      "7\n",
      "8\n",
      "9\n",
      "10\n",
      "----- using while loop -----\n",
      "1\n",
      "2\n",
      "3\n",
      "4\n",
      "5\n",
      "6\n",
      "7\n",
      "8\n",
      "9\n",
      "10\n"
     ]
    }
   ],
   "source": [
    "#. Write a short program that prints the numbers 1 to 10 using a for loop. Then write an equivalent program that prints the numbers 1 to 10 using a while loop.. Write a short program that prints the numbers 1 to 10 using a for loop. Then write an equivalent program that prints the numbers 1 to 10 using a while loop.\n",
    "print(\"-\"*5 ,\"using for loop\",\"-\"*5)\n",
    "for i in range(1,11):\n",
    "    print(i)\n",
    "print(\"-\"*5 ,\"using while loop\",\"-\"*5)    \n",
    "r = 1\n",
    "while r<=10:\n",
    "    print(r)\n",
    "    r+=1"
   ]
  },
  {
   "cell_type": "raw",
   "id": "6d61ae59",
   "metadata": {},
   "source": [
    "#If you had a function named bacon() inside a module named spam, how would you call it after importing spam ?\n",
    "This function can be called with spam.bacon()"
   ]
  }
 ],
 "metadata": {
  "kernelspec": {
   "display_name": "Python 3 (ipykernel)",
   "language": "python",
   "name": "python3"
  },
  "language_info": {
   "codemirror_mode": {
    "name": "ipython",
    "version": 3
   },
   "file_extension": ".py",
   "mimetype": "text/x-python",
   "name": "python",
   "nbconvert_exporter": "python",
   "pygments_lexer": "ipython3",
   "version": "3.9.13"
  }
 },
 "nbformat": 4,
 "nbformat_minor": 5
}
